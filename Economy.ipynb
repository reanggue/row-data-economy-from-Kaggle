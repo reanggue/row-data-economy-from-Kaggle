{
 "cells": [
  {
   "cell_type": "code",
   "execution_count": 1,
   "metadata": {
    "collapsed": true
   },
   "outputs": [],
   "source": [
    "data_abortion <- read.csv(\"abortion_rate.csv\")"
   ]
  },
  {
   "cell_type": "code",
   "execution_count": 2,
   "metadata": {
    "collapsed": false
   },
   "outputs": [
    {
     "name": "stdout",
     "output_type": "stream",
     "text": [
      "'data.frame':\t50 obs. of  10 variables:\n",
      " $ state     : Factor w/ 50 levels \"ALABAMA\",\"ALASKA\",..: 24 31 44 48 4 18 40 26 36 1 ...\n",
      " $ abortion  : num  12.4 17.7 9.3 7.7 13.5 ...\n",
      " $ religion  : num  38 44.7 76.7 9.8 30 ...\n",
      " $ price     : int  256 332 298 251 248 228 292 329 281 272 ...\n",
      " $ laws      : int  0 0 1 0 1 1 1 0 0 1 ...\n",
      " $ funds     : int  0 0 0 1 0 0 0 0 0 0 ...\n",
      " $ educ      : num  64.3 75.1 85.1 66 66.3 ...\n",
      " $ income    : int  14082 15458 15573 15598 15635 15931 16212 16227 16420 16522 ...\n",
      " $ picket    : int  100 20 0 50 33 60 57 50 75 89 ...\n",
      " $ lnabortion: num  2.52 2.87 2.23 2.04 2.6 ...\n"
     ]
    }
   ],
   "source": [
    "str(data_abortion)"
   ]
  },
  {
   "cell_type": "markdown",
   "metadata": {},
   "source": [
    "    yang mau dimodelkan abortion\n",
    "    observation-nya state"
   ]
  },
  {
   "cell_type": "code",
   "execution_count": 4,
   "metadata": {
    "collapsed": false
   },
   "outputs": [
    {
     "data": {
      "text/html": [
       "<table>\n",
       "<thead><tr><th scope=col>state</th><th scope=col>abortion</th><th scope=col>religion</th><th scope=col>price</th><th scope=col>laws</th><th scope=col>funds</th><th scope=col>educ</th><th scope=col>income</th><th scope=col>picket</th><th scope=col>lnabortion</th></tr></thead>\n",
       "<tbody>\n",
       "\t<tr><td>MISSISSIPPI  </td><td>12.4         </td><td>38.0         </td><td>256          </td><td>0            </td><td>0            </td><td>64.3         </td><td>14082        </td><td>100          </td><td>2.517696     </td></tr>\n",
       "\t<tr><td>NEW_MEXICO   </td><td>17.7         </td><td>44.7         </td><td>332          </td><td>0            </td><td>0            </td><td>75.1         </td><td>15458        </td><td> 20          </td><td>2.873565     </td></tr>\n",
       "\t<tr><td>UTAH         </td><td> 9.3         </td><td>76.7         </td><td>298          </td><td>1            </td><td>0            </td><td>85.1         </td><td>15573        </td><td>  0          </td><td>2.230014     </td></tr>\n",
       "\t<tr><td>WEST_VIRGINIA</td><td> 7.7         </td><td> 9.8         </td><td>251          </td><td>0            </td><td>1            </td><td>66.0         </td><td>15598        </td><td> 50          </td><td>2.041220     </td></tr>\n",
       "\t<tr><td>ARKANSAS     </td><td>13.5         </td><td>30.0         </td><td>248          </td><td>1            </td><td>0            </td><td>66.3         </td><td>15635        </td><td> 33          </td><td>2.602690     </td></tr>\n",
       "\t<tr><td>LOUISIANA    </td><td>13.4         </td><td>50.9         </td><td>228          </td><td>1            </td><td>0            </td><td>68.3         </td><td>15931        </td><td> 60          </td><td>2.595255     </td></tr>\n",
       "</tbody>\n",
       "</table>\n"
      ],
      "text/latex": [
       "\\begin{tabular}{r|llllllllll}\n",
       " state & abortion & religion & price & laws & funds & educ & income & picket & lnabortion\\\\\n",
       "\\hline\n",
       "\t MISSISSIPPI   & 12.4          & 38.0          & 256           & 0             & 0             & 64.3          & 14082         & 100           & 2.517696     \\\\\n",
       "\t NEW\\_MEXICO    & 17.7            & 44.7            & 332             & 0               & 0               & 75.1            & 15458           &  20             & 2.873565       \\\\\n",
       "\t UTAH          &  9.3          & 76.7          & 298           & 1             & 0             & 85.1          & 15573         &   0           & 2.230014     \\\\\n",
       "\t WEST\\_VIRGINIA &  7.7            &  9.8            & 251             & 0               & 1               & 66.0            & 15598           &  50             & 2.041220       \\\\\n",
       "\t ARKANSAS      & 13.5          & 30.0          & 248           & 1             & 0             & 66.3          & 15635         &  33           & 2.602690     \\\\\n",
       "\t LOUISIANA     & 13.4          & 50.9          & 228           & 1             & 0             & 68.3          & 15931         &  60           & 2.595255     \\\\\n",
       "\\end{tabular}\n"
      ],
      "text/markdown": [
       "\n",
       "state | abortion | religion | price | laws | funds | educ | income | picket | lnabortion | \n",
       "|---|---|---|---|---|---|\n",
       "| MISSISSIPPI   | 12.4          | 38.0          | 256           | 0             | 0             | 64.3          | 14082         | 100           | 2.517696      | \n",
       "| NEW_MEXICO    | 17.7          | 44.7          | 332           | 0             | 0             | 75.1          | 15458         |  20           | 2.873565      | \n",
       "| UTAH          |  9.3          | 76.7          | 298           | 1             | 0             | 85.1          | 15573         |   0           | 2.230014      | \n",
       "| WEST_VIRGINIA |  7.7          |  9.8          | 251           | 0             | 1             | 66.0          | 15598         |  50           | 2.041220      | \n",
       "| ARKANSAS      | 13.5          | 30.0          | 248           | 1             | 0             | 66.3          | 15635         |  33           | 2.602690      | \n",
       "| LOUISIANA     | 13.4          | 50.9          | 228           | 1             | 0             | 68.3          | 15931         |  60           | 2.595255      | \n",
       "\n",
       "\n"
      ],
      "text/plain": [
       "  state         abortion religion price laws funds educ income picket\n",
       "1 MISSISSIPPI   12.4     38.0     256   0    0     64.3 14082  100   \n",
       "2 NEW_MEXICO    17.7     44.7     332   0    0     75.1 15458   20   \n",
       "3 UTAH           9.3     76.7     298   1    0     85.1 15573    0   \n",
       "4 WEST_VIRGINIA  7.7      9.8     251   0    1     66.0 15598   50   \n",
       "5 ARKANSAS      13.5     30.0     248   1    0     66.3 15635   33   \n",
       "6 LOUISIANA     13.4     50.9     228   1    0     68.3 15931   60   \n",
       "  lnabortion\n",
       "1 2.517696  \n",
       "2 2.873565  \n",
       "3 2.230014  \n",
       "4 2.041220  \n",
       "5 2.602690  \n",
       "6 2.595255  "
      ]
     },
     "metadata": {},
     "output_type": "display_data"
    }
   ],
   "source": [
    "head(data_abortion)"
   ]
  },
  {
   "cell_type": "code",
   "execution_count": 5,
   "metadata": {
    "collapsed": true
   },
   "outputs": [],
   "source": [
    "data_abortion <- subset(data_abortion, select= -c(state, lnabortion))"
   ]
  },
  {
   "cell_type": "code",
   "execution_count": 6,
   "metadata": {
    "collapsed": false
   },
   "outputs": [
    {
     "data": {
      "text/html": [
       "<table>\n",
       "<thead><tr><th scope=col>abortion</th><th scope=col>religion</th><th scope=col>price</th><th scope=col>laws</th><th scope=col>funds</th><th scope=col>educ</th><th scope=col>income</th><th scope=col>picket</th></tr></thead>\n",
       "<tbody>\n",
       "\t<tr><td>12.4 </td><td>38.0 </td><td>256  </td><td>0    </td><td>0    </td><td>64.3 </td><td>14082</td><td>100  </td></tr>\n",
       "\t<tr><td>17.7 </td><td>44.7 </td><td>332  </td><td>0    </td><td>0    </td><td>75.1 </td><td>15458</td><td> 20  </td></tr>\n",
       "\t<tr><td> 9.3 </td><td>76.7 </td><td>298  </td><td>1    </td><td>0    </td><td>85.1 </td><td>15573</td><td>  0  </td></tr>\n",
       "\t<tr><td> 7.7 </td><td> 9.8 </td><td>251  </td><td>0    </td><td>1    </td><td>66.0 </td><td>15598</td><td> 50  </td></tr>\n",
       "\t<tr><td>13.5 </td><td>30.0 </td><td>248  </td><td>1    </td><td>0    </td><td>66.3 </td><td>15635</td><td> 33  </td></tr>\n",
       "\t<tr><td>13.4 </td><td>50.9 </td><td>228  </td><td>1    </td><td>0    </td><td>68.3 </td><td>15931</td><td> 60  </td></tr>\n",
       "</tbody>\n",
       "</table>\n"
      ],
      "text/latex": [
       "\\begin{tabular}{r|llllllll}\n",
       " abortion & religion & price & laws & funds & educ & income & picket\\\\\n",
       "\\hline\n",
       "\t 12.4  & 38.0  & 256   & 0     & 0     & 64.3  & 14082 & 100  \\\\\n",
       "\t 17.7  & 44.7  & 332   & 0     & 0     & 75.1  & 15458 &  20  \\\\\n",
       "\t  9.3  & 76.7  & 298   & 1     & 0     & 85.1  & 15573 &   0  \\\\\n",
       "\t  7.7  &  9.8  & 251   & 0     & 1     & 66.0  & 15598 &  50  \\\\\n",
       "\t 13.5  & 30.0  & 248   & 1     & 0     & 66.3  & 15635 &  33  \\\\\n",
       "\t 13.4  & 50.9  & 228   & 1     & 0     & 68.3  & 15931 &  60  \\\\\n",
       "\\end{tabular}\n"
      ],
      "text/markdown": [
       "\n",
       "abortion | religion | price | laws | funds | educ | income | picket | \n",
       "|---|---|---|---|---|---|\n",
       "| 12.4  | 38.0  | 256   | 0     | 0     | 64.3  | 14082 | 100   | \n",
       "| 17.7  | 44.7  | 332   | 0     | 0     | 75.1  | 15458 |  20   | \n",
       "|  9.3  | 76.7  | 298   | 1     | 0     | 85.1  | 15573 |   0   | \n",
       "|  7.7  |  9.8  | 251   | 0     | 1     | 66.0  | 15598 |  50   | \n",
       "| 13.5  | 30.0  | 248   | 1     | 0     | 66.3  | 15635 |  33   | \n",
       "| 13.4  | 50.9  | 228   | 1     | 0     | 68.3  | 15931 |  60   | \n",
       "\n",
       "\n"
      ],
      "text/plain": [
       "  abortion religion price laws funds educ income picket\n",
       "1 12.4     38.0     256   0    0     64.3 14082  100   \n",
       "2 17.7     44.7     332   0    0     75.1 15458   20   \n",
       "3  9.3     76.7     298   1    0     85.1 15573    0   \n",
       "4  7.7      9.8     251   0    1     66.0 15598   50   \n",
       "5 13.5     30.0     248   1    0     66.3 15635   33   \n",
       "6 13.4     50.9     228   1    0     68.3 15931   60   "
      ]
     },
     "metadata": {},
     "output_type": "display_data"
    }
   ],
   "source": [
    "head(data_abortion)"
   ]
  },
  {
   "cell_type": "markdown",
   "metadata": {},
   "source": [
    "### Add Missing Value"
   ]
  },
  {
   "cell_type": "code",
   "execution_count": 7,
   "metadata": {
    "collapsed": false
   },
   "outputs": [
    {
     "data": {
      "text/html": [
       "<dl class=dl-horizontal>\n",
       "\t<dt>abortion</dt>\n",
       "\t\t<dd>0</dd>\n",
       "\t<dt>religion</dt>\n",
       "\t\t<dd>0</dd>\n",
       "\t<dt>price</dt>\n",
       "\t\t<dd>0</dd>\n",
       "\t<dt>laws</dt>\n",
       "\t\t<dd>0</dd>\n",
       "\t<dt>funds</dt>\n",
       "\t\t<dd>0</dd>\n",
       "\t<dt>educ</dt>\n",
       "\t\t<dd>0</dd>\n",
       "\t<dt>income</dt>\n",
       "\t\t<dd>0</dd>\n",
       "\t<dt>picket</dt>\n",
       "\t\t<dd>0</dd>\n",
       "</dl>\n"
      ],
      "text/latex": [
       "\\begin{description*}\n",
       "\\item[abortion] 0\n",
       "\\item[religion] 0\n",
       "\\item[price] 0\n",
       "\\item[laws] 0\n",
       "\\item[funds] 0\n",
       "\\item[educ] 0\n",
       "\\item[income] 0\n",
       "\\item[picket] 0\n",
       "\\end{description*}\n"
      ],
      "text/markdown": [
       "abortion\n",
       ":   0religion\n",
       ":   0price\n",
       ":   0laws\n",
       ":   0funds\n",
       ":   0educ\n",
       ":   0income\n",
       ":   0picket\n",
       ":   0\n",
       "\n"
      ],
      "text/plain": [
       "abortion religion    price     laws    funds     educ   income   picket \n",
       "       0        0        0        0        0        0        0        0 "
      ]
     },
     "metadata": {},
     "output_type": "display_data"
    }
   ],
   "source": [
    "colSums(is.na(data_abortion))"
   ]
  },
  {
   "cell_type": "markdown",
   "metadata": {},
   "source": [
    "# Plotting"
   ]
  },
  {
   "cell_type": "code",
   "execution_count": 8,
   "metadata": {
    "collapsed": true
   },
   "outputs": [],
   "source": [
    "library(ggplot2)"
   ]
  },
  {
   "cell_type": "code",
   "execution_count": 12,
   "metadata": {
    "collapsed": true
   },
   "outputs": [],
   "source": [
    "options(repr.plot.width=4, repr.plot.height=4) # Mengatur panjang dan lebar dari plot yang akan dibuat"
   ]
  },
  {
   "cell_type": "code",
   "execution_count": 13,
   "metadata": {
    "collapsed": false
   },
   "outputs": [
    {
     "data": {},
     "metadata": {},
     "output_type": "display_data"
    },
    {
     "data": {
      "image/png": "[encoded data removed]",
      "text/plain": [
       "plot without title"
      ]
     },
     "metadata": {},
     "output_type": "display_data"
    }
   ],
   "source": [
    "p10 <- ggplot(data_abortion, aes(x =  factor(laws) , y = abortion)) +\n",
    "        geom_boxplot()\n",
    "p10"
   ]
  },
  {
   "cell_type": "code",
   "execution_count": 14,
   "metadata": {
    "collapsed": true
   },
   "outputs": [],
   "source": [
    "p10 <- ggplot(data_abortion, aes(x =  factor(funds) , y = abortion)) +\n",
    "        geom_boxplot()"
   ]
  },
  {
   "cell_type": "code",
   "execution_count": 15,
   "metadata": {
    "collapsed": false
   },
   "outputs": [
    {
     "data": {},
     "metadata": {},
     "output_type": "display_data"
    },
    {
     "data": {
      "image/png": "[encoded data removed]",
      "text/plain": [
       "plot without title"
      ]
     },
     "metadata": {},
     "output_type": "display_data"
    }
   ],
   "source": [
    "p10"
   ]
  },
  {
   "cell_type": "code",
   "execution_count": 16,
   "metadata": {
    "collapsed": true
   },
   "outputs": [],
   "source": [
    "numeric <- subset(data_abortion, select= -c(laws, funds))"
   ]
  },
  {
   "cell_type": "code",
   "execution_count": 18,
   "metadata": {
    "collapsed": false
   },
   "outputs": [
    {
     "data": {
      "text/html": [
       "50"
      ],
      "text/latex": [
       "50"
      ],
      "text/markdown": [
       "50"
      ],
      "text/plain": [
       "[1] 50"
      ]
     },
     "metadata": {},
     "output_type": "display_data"
    }
   ],
   "source": [
    "nrow(data_abortion)"
   ]
  },
  {
   "cell_type": "code",
   "execution_count": 27,
   "metadata": {
    "collapsed": false
   },
   "outputs": [
    {
     "data": {
      "image/png": "[encoded data removed]",
      "text/plain": [
       "plot without title"
      ]
     },
     "metadata": {},
     "output_type": "display_data"
    }
   ],
   "source": [
    "options(repr.plot.width=6, repr.plot.height=6) # Mengatur panjang dan lebar dari plot yang akan dibuat\n",
    "pairs(numeric, pch=\"o\", col=\"blue\",lwd=3)"
   ]
  },
  {
   "cell_type": "code",
   "execution_count": 266,
   "metadata": {
    "collapsed": false
   },
   "outputs": [
    {
     "data": {
      "image/png": "[encoded data removed]",
      "text/plain": [
       "plot without title"
      ]
     },
     "metadata": {},
     "output_type": "display_data"
    }
   ],
   "source": [
    "library(car)\n",
    "scatterplotMatrix(~abortion + religion + price + educ + income + picket, data=numeric ,\n",
    "  \tmain=\"Abortion Data\")"
   ]
  },
  {
   "cell_type": "code",
   "execution_count": null,
   "metadata": {
    "collapsed": true
   },
   "outputs": [],
   "source": []
  },
  {
   "cell_type": "code",
   "execution_count": null,
   "metadata": {
    "collapsed": true
   },
   "outputs": [],
   "source": []
  },
  {
   "cell_type": "markdown",
   "metadata": {},
   "source": [
    "### Linear Regression"
   ]
  },
  {
   "cell_type": "code",
   "execution_count": 267,
   "metadata": {
    "collapsed": false,
    "scrolled": false
   },
   "outputs": [
    {
     "data": {
      "text/plain": [
       "\n",
       "Call:\n",
       "lm(formula = abortion ~ . + I(income^2), data = data_abortion)\n",
       "\n",
       "Residuals:\n",
       "   Min     1Q Median     3Q    Max \n",
       "-9.947 -4.528 -1.790  3.993 15.555 \n",
       "\n",
       "Coefficients:\n",
       "              Estimate Std. Error t value Pr(>|t|)  \n",
       "(Intercept) -6.658e+01  4.516e+01  -1.474   0.1480  \n",
       "religion     9.971e-02  9.381e-02   1.063   0.2940  \n",
       "price       -4.200e-02  2.157e-02  -1.947   0.0584 .\n",
       "laws        -1.968e+00  2.378e+00  -0.828   0.4126  \n",
       "funds        4.501e+00  2.844e+00   1.583   0.1212  \n",
       "educ        -3.872e-01  2.008e-01  -1.929   0.0607 .\n",
       "income       1.109e-02  4.610e-03   2.405   0.0208 *\n",
       "picket      -1.077e-01  4.122e-02  -2.613   0.0125 *\n",
       "I(income^2) -2.166e-07  1.144e-07  -1.893   0.0655 .\n",
       "---\n",
       "Signif. codes:  0 ‘***’ 0.001 ‘**’ 0.01 ‘*’ 0.05 ‘.’ 0.1 ‘ ’ 1\n",
       "\n",
       "Residual standard error: 6.855 on 41 degrees of freedom\n",
       "Multiple R-squared:  0.6114,\tAdjusted R-squared:  0.5356 \n",
       "F-statistic: 8.063 on 8 and 41 DF,  p-value: 1.822e-06\n"
      ]
     },
     "metadata": {},
     "output_type": "display_data"
    }
   ],
   "source": [
    "model <- lm(abortion ~ . + I(income**2), data = data_abortion)\n",
    "summary(model)"
   ]
  },
  {
   "cell_type": "code",
   "execution_count": 30,
   "metadata": {
    "collapsed": false
   },
   "outputs": [
    {
     "data": {
      "text/plain": [
       "\n",
       "Call:\n",
       "lm(formula = abortion ~ . + I(log(income)), data = data_abortion)\n",
       "\n",
       "Residuals:\n",
       "    Min      1Q  Median      3Q     Max \n",
       "-10.116  -4.582  -1.901   4.088  15.739 \n",
       "\n",
       "Coefficients:\n",
       "                 Estimate Std. Error t value Pr(>|t|)  \n",
       "(Intercept)    -1.324e+03  8.264e+02  -1.602   0.1169  \n",
       "religion        8.970e-02  9.505e-02   0.944   0.3508  \n",
       "price          -4.252e-02  2.181e-02  -1.950   0.0581 .\n",
       "laws           -1.878e+00  2.413e+00  -0.778   0.4409  \n",
       "funds           4.265e+00  2.873e+00   1.484   0.1454  \n",
       "educ           -3.743e-01  2.031e-01  -1.843   0.0725 .\n",
       "income         -5.278e-03  4.764e-03  -1.108   0.2743  \n",
       "picket         -1.104e-01  4.158e-02  -2.655   0.0113 *\n",
       "I(log(income))  1.512e+02  9.336e+01   1.619   0.1131  \n",
       "---\n",
       "Signif. codes:  0 '***' 0.001 '**' 0.01 '*' 0.05 '.' 0.1 ' ' 1\n",
       "\n",
       "Residual standard error: 6.93 on 41 degrees of freedom\n",
       "Multiple R-squared:  0.6028,\tAdjusted R-squared:  0.5253 \n",
       "F-statistic: 7.779 on 8 and 41 DF,  p-value: 2.74e-06\n"
      ]
     },
     "metadata": {},
     "output_type": "display_data"
    }
   ],
   "source": [
    "model <- lm(abortion ~ . + I(log(income)), data = data_abortion)\n",
    "summary(model)"
   ]
  },
  {
   "cell_type": "code",
   "execution_count": null,
   "metadata": {
    "collapsed": true
   },
   "outputs": [],
   "source": []
  },
  {
   "cell_type": "code",
   "execution_count": 28,
   "metadata": {
    "collapsed": false
   },
   "outputs": [
    {
     "data": {
      "text/plain": [
       "\n",
       "Call:\n",
       "lm(formula = abortion ~ ., data = data_abortion)\n",
       "\n",
       "Residuals:\n",
       "     Min       1Q   Median       3Q      Max \n",
       "-11.6110  -4.6493  -0.6696   4.5253  15.9514 \n",
       "\n",
       "Coefficients:\n",
       "              Estimate Std. Error t value Pr(>|t|)    \n",
       "(Intercept) 14.2839573 15.0776294   0.947   0.3489    \n",
       "religion     0.0200709  0.0863805   0.232   0.8174    \n",
       "price       -0.0423631  0.0222232  -1.906   0.0635 .  \n",
       "laws        -0.8731018  2.3765662  -0.367   0.7152    \n",
       "funds        2.8200030  2.7834747   1.013   0.3168    \n",
       "educ        -0.2872551  0.1995545  -1.439   0.1574    \n",
       "income       0.0024007  0.0004552   5.274 4.35e-06 ***\n",
       "picket      -0.1168712  0.0421799  -2.771   0.0083 ** \n",
       "---\n",
       "Signif. codes:  0 '***' 0.001 '**' 0.01 '*' 0.05 '.' 0.1 ' ' 1\n",
       "\n",
       "Residual standard error: 7.063 on 42 degrees of freedom\n",
       "Multiple R-squared:  0.5774,\tAdjusted R-squared:  0.507 \n",
       "F-statistic: 8.199 on 7 and 42 DF,  p-value: 2.847e-06\n"
      ]
     },
     "metadata": {},
     "output_type": "display_data"
    }
   ],
   "source": [
    "model <- lm(abortion ~ ., data = data_abortion)\n",
    "summary(model)"
   ]
  },
  {
   "cell_type": "code",
   "execution_count": null,
   "metadata": {
    "collapsed": true
   },
   "outputs": [],
   "source": []
  },
  {
   "cell_type": "markdown",
   "metadata": {},
   "source": [
    "### Bootstrap"
   ]
  },
  {
   "cell_type": "markdown",
   "metadata": {},
   "source": [
    "Panggil Library \"boot\""
   ]
  },
  {
   "cell_type": "code",
   "execution_count": 31,
   "metadata": {
    "collapsed": true
   },
   "outputs": [],
   "source": [
    "library(boot)"
   ]
  },
  {
   "cell_type": "markdown",
   "metadata": {},
   "source": [
    "Buat function untuk membuat bootstrap linear regression"
   ]
  },
  {
   "cell_type": "code",
   "execution_count": 32,
   "metadata": {
    "collapsed": true
   },
   "outputs": [],
   "source": [
    "coef.reg <- function(formula, data, indices) {\n",
    "    d <- data[indices,] \n",
    "    fit <- lm(formula, data = d)\n",
    "    return(fit$coefficients)\n",
    "    } "
   ]
  },
  {
   "cell_type": "code",
   "execution_count": 33,
   "metadata": {
    "collapsed": true
   },
   "outputs": [],
   "source": [
    "# bootstrapping with 1000 replications \n",
    "set.seed(1)\n",
    "results <- boot(data = data_abortion, statistic = coef.reg, R = 10000,\n",
    "                formula = abortion ~ .)\n"
   ]
  },
  {
   "cell_type": "code",
   "execution_count": 34,
   "metadata": {
    "collapsed": false
   },
   "outputs": [
    {
     "data": {
      "text/plain": [
       "\n",
       "ORDINARY NONPARAMETRIC BOOTSTRAP\n",
       "\n",
       "\n",
       "Call:\n",
       "boot(data = data_abortion, statistic = coef.reg, R = 10000, formula = abortion ~ \n",
       "    .)\n",
       "\n",
       "\n",
       "Bootstrap Statistics :\n",
       "        original        bias     std. error\n",
       "t1* 14.283957280  3.035095e-01 1.574087e+01\n",
       "t2*  0.020070901  8.794202e-03 9.426150e-02\n",
       "t3* -0.042363106 -4.357808e-04 2.595358e-02\n",
       "t4* -0.873101786  1.009173e-01 1.874060e+00\n",
       "t5*  2.820003024  4.054946e-01 3.157501e+00\n",
       "t6* -0.287255121  8.284621e-03 1.922984e-01\n",
       "t7*  0.002400682 -3.839912e-05 5.382905e-04\n",
       "t8* -0.116871214 -6.092593e-03 4.395420e-02"
      ]
     },
     "metadata": {},
     "output_type": "display_data"
    }
   ],
   "source": [
    "results"
   ]
  },
  {
   "cell_type": "code",
   "execution_count": 35,
   "metadata": {
    "collapsed": false
   },
   "outputs": [
    {
     "data": {
      "text/html": [
       "<dl class=dl-horizontal>\n",
       "\t<dt>(Intercept)</dt>\n",
       "\t\t<dd>14.2839572801301</dd>\n",
       "\t<dt>religion</dt>\n",
       "\t\t<dd>0.0200709013280574</dd>\n",
       "\t<dt>price</dt>\n",
       "\t\t<dd>-0.0423631057522095</dd>\n",
       "\t<dt>laws</dt>\n",
       "\t\t<dd>-0.8731017859851</dd>\n",
       "\t<dt>funds</dt>\n",
       "\t\t<dd>2.82000302351841</dd>\n",
       "\t<dt>educ</dt>\n",
       "\t\t<dd>-0.287255121227661</dd>\n",
       "\t<dt>income</dt>\n",
       "\t\t<dd>0.00240068211559281</dd>\n",
       "\t<dt>picket</dt>\n",
       "\t\t<dd>-0.116871213772435</dd>\n",
       "</dl>\n"
      ],
      "text/latex": [
       "\\begin{description*}\n",
       "\\item[(Intercept)] 14.2839572801301\n",
       "\\item[religion] 0.0200709013280574\n",
       "\\item[price] -0.0423631057522095\n",
       "\\item[laws] -0.8731017859851\n",
       "\\item[funds] 2.82000302351841\n",
       "\\item[educ] -0.287255121227661\n",
       "\\item[income] 0.00240068211559281\n",
       "\\item[picket] -0.116871213772435\n",
       "\\end{description*}\n"
      ],
      "text/markdown": [
       "(Intercept)\n",
       ":   14.2839572801301religion\n",
       ":   0.0200709013280574price\n",
       ":   -0.0423631057522095laws\n",
       ":   -0.8731017859851funds\n",
       ":   2.82000302351841educ\n",
       ":   -0.287255121227661income\n",
       ":   0.00240068211559281picket\n",
       ":   -0.116871213772435\n",
       "\n"
      ],
      "text/plain": [
       " (Intercept)     religion        price         laws        funds         educ \n",
       "14.283957280  0.020070901 -0.042363106 -0.873101786  2.820003024 -0.287255121 \n",
       "      income       picket \n",
       " 0.002400682 -0.116871214 "
      ]
     },
     "metadata": {},
     "output_type": "display_data"
    }
   ],
   "source": [
    "results$t0"
   ]
  },
  {
   "cell_type": "code",
   "execution_count": 36,
   "metadata": {
    "collapsed": true
   },
   "outputs": [],
   "source": [
    "colnames(results$t) <- names(results$t0)"
   ]
  },
  {
   "cell_type": "markdown",
   "metadata": {},
   "source": [
    "* Bootstrap Estimates of Regression Coefficient"
   ]
  },
  {
   "cell_type": "code",
   "execution_count": 37,
   "metadata": {
    "collapsed": false
   },
   "outputs": [
    {
     "data": {
      "text/html": [
       "0.0288651033086807"
      ],
      "text/latex": [
       "0.0288651033086807"
      ],
      "text/markdown": [
       "0.0288651033086807"
      ],
      "text/plain": [
       "[1] 0.0288651"
      ]
     },
     "metadata": {},
     "output_type": "display_data"
    }
   ],
   "source": [
    "coef_religion <- mean(results$t[, \"religion\"])\n",
    "coef_religion"
   ]
  },
  {
   "cell_type": "code",
   "execution_count": 38,
   "metadata": {
    "collapsed": false
   },
   "outputs": [
    {
     "data": {
      "text/html": [
       "-0.0427988865762746"
      ],
      "text/latex": [
       "-0.0427988865762746"
      ],
      "text/markdown": [
       "-0.0427988865762746"
      ],
      "text/plain": [
       "[1] -0.04279889"
      ]
     },
     "metadata": {},
     "output_type": "display_data"
    }
   ],
   "source": [
    "coef_price <- mean(results$t[, \"price\"])\n",
    "coef_price"
   ]
  },
  {
   "cell_type": "code",
   "execution_count": 39,
   "metadata": {
    "collapsed": false
   },
   "outputs": [
    {
     "data": {
      "text/html": [
       "-0.772184515142837"
      ],
      "text/latex": [
       "-0.772184515142837"
      ],
      "text/markdown": [
       "-0.772184515142837"
      ],
      "text/plain": [
       "[1] -0.7721845"
      ]
     },
     "metadata": {},
     "output_type": "display_data"
    }
   ],
   "source": [
    "coef_laws <- mean(results$t[, \"laws\"])\n",
    "coef_laws"
   ]
  },
  {
   "cell_type": "code",
   "execution_count": 40,
   "metadata": {
    "collapsed": false,
    "scrolled": true
   },
   "outputs": [
    {
     "data": {
      "text/html": [
       "-0.278970499800785"
      ],
      "text/latex": [
       "-0.278970499800785"
      ],
      "text/markdown": [
       "-0.278970499800785"
      ],
      "text/plain": [
       "[1] -0.2789705"
      ]
     },
     "metadata": {},
     "output_type": "display_data"
    }
   ],
   "source": [
    "coef_educ <- mean(results$t[, \"educ\"])\n",
    "coef_educ"
   ]
  },
  {
   "cell_type": "code",
   "execution_count": 41,
   "metadata": {
    "collapsed": false
   },
   "outputs": [
    {
     "data": {
      "text/html": [
       "0.0023622830005688"
      ],
      "text/latex": [
       "0.0023622830005688"
      ],
      "text/markdown": [
       "0.0023622830005688"
      ],
      "text/plain": [
       "[1] 0.002362283"
      ]
     },
     "metadata": {},
     "output_type": "display_data"
    }
   ],
   "source": [
    "coef_income <- mean(results$t[, \"income\"])\n",
    "coef_income"
   ]
  },
  {
   "cell_type": "markdown",
   "metadata": {},
   "source": [
    "* Booststrap Estimates of Standard Errors"
   ]
  },
  {
   "cell_type": "code",
   "execution_count": 42,
   "metadata": {
    "collapsed": false
   },
   "outputs": [
    {
     "data": {
      "text/html": [
       "0.0942614960311737"
      ],
      "text/latex": [
       "0.0942614960311737"
      ],
      "text/markdown": [
       "0.0942614960311737"
      ],
      "text/plain": [
       "[1] 0.0942615"
      ]
     },
     "metadata": {},
     "output_type": "display_data"
    }
   ],
   "source": [
    "se_religion <- sd(results$t[, \"religion\"])\n",
    "se_religion"
   ]
  },
  {
   "cell_type": "code",
   "execution_count": 43,
   "metadata": {
    "collapsed": false
   },
   "outputs": [
    {
     "data": {
      "text/html": [
       "0.0259535844646228"
      ],
      "text/latex": [
       "0.0259535844646228"
      ],
      "text/markdown": [
       "0.0259535844646228"
      ],
      "text/plain": [
       "[1] 0.02595358"
      ]
     },
     "metadata": {},
     "output_type": "display_data"
    }
   ],
   "source": [
    "se_price <- sd(results$t[, \"price\"])\n",
    "se_price"
   ]
  },
  {
   "cell_type": "code",
   "execution_count": 44,
   "metadata": {
    "collapsed": false
   },
   "outputs": [
    {
     "data": {
      "text/html": [
       "1.87406024202753"
      ],
      "text/latex": [
       "1.87406024202753"
      ],
      "text/markdown": [
       "1.87406024202753"
      ],
      "text/plain": [
       "[1] 1.87406"
      ]
     },
     "metadata": {},
     "output_type": "display_data"
    }
   ],
   "source": [
    "se_laws <- sd(results$t[, \"laws\"])\n",
    "se_laws"
   ]
  },
  {
   "cell_type": "code",
   "execution_count": 45,
   "metadata": {
    "collapsed": false
   },
   "outputs": [
    {
     "data": {
      "text/html": [
       "0.192298418243171"
      ],
      "text/latex": [
       "0.192298418243171"
      ],
      "text/markdown": [
       "0.192298418243171"
      ],
      "text/plain": [
       "[1] 0.1922984"
      ]
     },
     "metadata": {},
     "output_type": "display_data"
    }
   ],
   "source": [
    "se_educ <- sd(results$t[, \"educ\"])\n",
    "se_educ"
   ]
  },
  {
   "cell_type": "code",
   "execution_count": 46,
   "metadata": {
    "collapsed": false
   },
   "outputs": [
    {
     "data": {
      "text/html": [
       "0.000538290481126226"
      ],
      "text/latex": [
       "0.000538290481126226"
      ],
      "text/markdown": [
       "0.000538290481126226"
      ],
      "text/plain": [
       "[1] 0.0005382905"
      ]
     },
     "metadata": {},
     "output_type": "display_data"
    }
   ],
   "source": [
    "se_income <- sd(results$t[, \"income\"])\n",
    "se_income"
   ]
  },
  {
   "cell_type": "markdown",
   "metadata": {},
   "source": [
    "* Bootstrap Estimates of Bias"
   ]
  },
  {
   "cell_type": "code",
   "execution_count": 47,
   "metadata": {
    "collapsed": false
   },
   "outputs": [
    {
     "data": {
      "text/html": [
       "<strong>religion:</strong> -0.0087942019806233"
      ],
      "text/latex": [
       "\\textbf{religion:} -0.0087942019806233"
      ],
      "text/markdown": [
       "**religion:** -0.0087942019806233"
      ],
      "text/plain": [
       "    religion \n",
       "-0.008794202 "
      ]
     },
     "metadata": {},
     "output_type": "display_data"
    }
   ],
   "source": [
    "bias_religion <- results$t0[\"religion\"] - coef_religion\n",
    "bias_religion"
   ]
  },
  {
   "cell_type": "code",
   "execution_count": 48,
   "metadata": {
    "collapsed": false
   },
   "outputs": [
    {
     "data": {
      "text/html": [
       "<strong>price:</strong> 0.000435780824065049"
      ],
      "text/latex": [
       "\\textbf{price:} 0.000435780824065049"
      ],
      "text/markdown": [
       "**price:** 0.000435780824065049"
      ],
      "text/plain": [
       "       price \n",
       "0.0004357808 "
      ]
     },
     "metadata": {},
     "output_type": "display_data"
    }
   ],
   "source": [
    "bias_price <- results$t0[\"price\"] - coef_price\n",
    "bias_price"
   ]
  },
  {
   "cell_type": "code",
   "execution_count": 49,
   "metadata": {
    "collapsed": false
   },
   "outputs": [
    {
     "data": {
      "text/html": [
       "<strong>laws:</strong> -0.100917270842263"
      ],
      "text/latex": [
       "\\textbf{laws:} -0.100917270842263"
      ],
      "text/markdown": [
       "**laws:** -0.100917270842263"
      ],
      "text/plain": [
       "      laws \n",
       "-0.1009173 "
      ]
     },
     "metadata": {},
     "output_type": "display_data"
    }
   ],
   "source": [
    "bias_laws <- results$t0[\"laws\"] - coef_laws\n",
    "bias_laws"
   ]
  },
  {
   "cell_type": "code",
   "execution_count": 50,
   "metadata": {
    "collapsed": false
   },
   "outputs": [
    {
     "data": {
      "text/html": [
       "<strong>educ:</strong> -0.00828462142687653"
      ],
      "text/latex": [
       "\\textbf{educ:} -0.00828462142687653"
      ],
      "text/markdown": [
       "**educ:** -0.00828462142687653"
      ],
      "text/plain": [
       "        educ \n",
       "-0.008284621 "
      ]
     },
     "metadata": {},
     "output_type": "display_data"
    }
   ],
   "source": [
    "bias_educ <- results$t0[\"educ\"] - coef_educ\n",
    "bias_educ"
   ]
  },
  {
   "cell_type": "code",
   "execution_count": 51,
   "metadata": {
    "collapsed": false
   },
   "outputs": [
    {
     "data": {
      "text/html": [
       "<strong>income:</strong> 3.83991150240104e-05"
      ],
      "text/latex": [
       "\\textbf{income:} 3.83991150240104e-05"
      ],
      "text/markdown": [
       "**income:** 3.83991150240104e-05"
      ],
      "text/plain": [
       "      income \n",
       "3.839912e-05 "
      ]
     },
     "metadata": {},
     "output_type": "display_data"
    }
   ],
   "source": [
    "bias_income <- results$t0[\"income\"] - coef_income\n",
    "bias_income"
   ]
  },
  {
   "cell_type": "markdown",
   "metadata": {},
   "source": [
    "## t-stat"
   ]
  },
  {
   "cell_type": "code",
   "execution_count": 52,
   "metadata": {
    "collapsed": false,
    "scrolled": true
   },
   "outputs": [
    {
     "data": {
      "text/html": [
       "-1.64905493630807"
      ],
      "text/latex": [
       "-1.64905493630807"
      ],
      "text/markdown": [
       "-1.64905493630807"
      ],
      "text/plain": [
       "[1] -1.649055"
      ]
     },
     "metadata": {},
     "output_type": "display_data"
    }
   ],
   "source": [
    "coef_price/se_price"
   ]
  },
  {
   "cell_type": "code",
   "execution_count": 53,
   "metadata": {
    "collapsed": false
   },
   "outputs": [
    {
     "data": {
      "text/html": [
       "4.38849112773899"
      ],
      "text/latex": [
       "4.38849112773899"
      ],
      "text/markdown": [
       "4.38849112773899"
      ],
      "text/plain": [
       "[1] 4.388491"
      ]
     },
     "metadata": {},
     "output_type": "display_data"
    }
   ],
   "source": [
    "coef_income/se_income"
   ]
  },
  {
   "cell_type": "markdown",
   "metadata": {},
   "source": [
    "### Hypothesis Testing with Bootstrap"
   ]
  },
  {
   "cell_type": "code",
   "execution_count": 54,
   "metadata": {
    "collapsed": true
   },
   "outputs": [],
   "source": [
    "library(ggplot2)"
   ]
  },
  {
   "cell_type": "markdown",
   "metadata": {},
   "source": [
    "### Price"
   ]
  },
  {
   "cell_type": "code",
   "execution_count": 55,
   "metadata": {
    "collapsed": false
   },
   "outputs": [
    {
     "data": {
      "text/html": [
       "-0.0427988865762746"
      ],
      "text/latex": [
       "-0.0427988865762746"
      ],
      "text/markdown": [
       "-0.0427988865762746"
      ],
      "text/plain": [
       "[1] -0.04279889"
      ]
     },
     "metadata": {},
     "output_type": "display_data"
    }
   ],
   "source": [
    "mean(results$t[, \"price\"])"
   ]
  },
  {
   "cell_type": "code",
   "execution_count": 56,
   "metadata": {
    "collapsed": false
   },
   "outputs": [
    {
     "data": {
      "text/html": [
       "-0.0441357997769629"
      ],
      "text/latex": [
       "-0.0441357997769629"
      ],
      "text/markdown": [
       "-0.0441357997769629"
      ],
      "text/plain": [
       "[1] -0.0441358"
      ]
     },
     "metadata": {},
     "output_type": "display_data"
    }
   ],
   "source": [
    "median(results$t[, \"price\"])"
   ]
  },
  {
   "cell_type": "code",
   "execution_count": 58,
   "metadata": {
    "collapsed": false
   },
   "outputs": [
    {
     "data": {},
     "metadata": {},
     "output_type": "display_data"
    },
    {
     "data": {
      "image/png": "[encoded data removed]",
      "text/plain": [
       "plot without title"
      ]
     },
     "metadata": {},
     "output_type": "display_data"
    }
   ],
   "source": [
    "options(repr.plot.width=4, repr.plot.height=4) # Mengatur panjang dan lebar dari plot yang akan dibuat\n",
    "qplot(results$t[, \"price\"], bins = 100) + geom_vline(xintercept = mean(results$t[, \"price\"]), color = \"red\")"
   ]
  },
  {
   "cell_type": "code",
   "execution_count": 62,
   "metadata": {
    "collapsed": true
   },
   "outputs": [],
   "source": [
    "t_boot_price <- results$t[, \"price\"]/se_price"
   ]
  },
  {
   "cell_type": "code",
   "execution_count": 63,
   "metadata": {
    "collapsed": false
   },
   "outputs": [
    {
     "data": {},
     "metadata": {},
     "output_type": "display_data"
    },
    {
     "data": {
      "image/png": "[encoded data removed]",
      "text/plain": [
       "plot without title"
      ]
     },
     "metadata": {},
     "output_type": "display_data"
    }
   ],
   "source": [
    "qplot(t_boot_price, bins = 100) + geom_vline(xintercept = mean(results$t[, \"price\"]), color = \"red\")"
   ]
  },
  {
   "cell_type": "code",
   "execution_count": 64,
   "metadata": {
    "collapsed": false
   },
   "outputs": [
    {
     "data": {
      "text/html": [
       "0.0581"
      ],
      "text/latex": [
       "0.0581"
      ],
      "text/markdown": [
       "0.0581"
      ],
      "text/plain": [
       "[1] 0.0581"
      ]
     },
     "metadata": {},
     "output_type": "display_data"
    }
   ],
   "source": [
    "p1 <- sum(t_boot_price > 0)/10000\n",
    "p1 "
   ]
  },
  {
   "cell_type": "code",
   "execution_count": 65,
   "metadata": {
    "collapsed": true
   },
   "outputs": [],
   "source": [
    "t_H0 <- t_boot_price - mean(t_boot_price)"
   ]
  },
  {
   "cell_type": "code",
   "execution_count": 66,
   "metadata": {
    "collapsed": false
   },
   "outputs": [
    {
     "data": {},
     "metadata": {},
     "output_type": "display_data"
    },
    {
     "data": {
      "image/png": "[encoded data removed]",
      "text/plain": [
       "plot without title"
      ]
     },
     "metadata": {},
     "output_type": "display_data"
    }
   ],
   "source": [
    "qplot(t_H0, bins = 100)"
   ]
  },
  {
   "cell_type": "code",
   "execution_count": 67,
   "metadata": {
    "collapsed": true
   },
   "outputs": [],
   "source": [
    "t_stat <- results$t0[\"price\"] / se_price"
   ]
  },
  {
   "cell_type": "code",
   "execution_count": 68,
   "metadata": {
    "collapsed": false
   },
   "outputs": [
    {
     "data": {
      "text/html": [
       "<strong>price:</strong> -1.63226416027252"
      ],
      "text/latex": [
       "\\textbf{price:} -1.63226416027252"
      ],
      "text/markdown": [
       "**price:** -1.63226416027252"
      ],
      "text/plain": [
       "    price \n",
       "-1.632264 "
      ]
     },
     "metadata": {},
     "output_type": "display_data"
    }
   ],
   "source": [
    "t_stat"
   ]
  },
  {
   "cell_type": "code",
   "execution_count": 69,
   "metadata": {
    "collapsed": false
   },
   "outputs": [
    {
     "data": {
      "text/html": [
       "0.724"
      ],
      "text/latex": [
       "0.724"
      ],
      "text/markdown": [
       "0.724"
      ],
      "text/plain": [
       "[1] 0.724"
      ]
     },
     "metadata": {},
     "output_type": "display_data"
    }
   ],
   "source": [
    "p2 <- sum(t_H0 < t_stat) / 1000\n",
    "p2*2"
   ]
  },
  {
   "cell_type": "code",
   "execution_count": 70,
   "metadata": {
    "collapsed": false
   },
   "outputs": [
    {
     "data": {},
     "metadata": {},
     "output_type": "display_data"
    },
    {
     "data": {
      "image/png": "[encoded data removed]",
      "text/plain": [
       "plot without title"
      ]
     },
     "metadata": {},
     "output_type": "display_data"
    }
   ],
   "source": [
    "qplot(t_H0, bins = 100) + geom_vline(xintercept = t_stat, color = \"red\")"
   ]
  },
  {
   "cell_type": "markdown",
   "metadata": {},
   "source": [
    "### Income"
   ]
  },
  {
   "cell_type": "code",
   "execution_count": 71,
   "metadata": {
    "collapsed": false
   },
   "outputs": [
    {
     "data": {
      "text/html": [
       "0.0023622830005688"
      ],
      "text/latex": [
       "0.0023622830005688"
      ],
      "text/markdown": [
       "0.0023622830005688"
      ],
      "text/plain": [
       "[1] 0.002362283"
      ]
     },
     "metadata": {},
     "output_type": "display_data"
    }
   ],
   "source": [
    "mean(results$t[, \"income\"])"
   ]
  },
  {
   "cell_type": "code",
   "execution_count": 72,
   "metadata": {
    "collapsed": false
   },
   "outputs": [
    {
     "ename": "ERROR",
     "evalue": "Error in eval(expr, envir, enclos): object 't_boot_income' not found\n",
     "output_type": "error",
     "traceback": [
      "Error in eval(expr, envir, enclos): object 't_boot_income' not found\nTraceback:\n"
     ]
    }
   ],
   "source": [
    "p1 <- sum(t_boot_income < 0)/10000\n",
    "p1"
   ]
  },
  {
   "cell_type": "code",
   "execution_count": 73,
   "metadata": {
    "collapsed": false
   },
   "outputs": [
    {
     "data": {},
     "metadata": {},
     "output_type": "display_data"
    },
    {
     "data": {
      "image/png": "[encoded data removed]",
      "text/plain": [
       "plot without title"
      ]
     },
     "metadata": {},
     "output_type": "display_data"
    }
   ],
   "source": [
    "t_boot_income <- results$t[, \"income\"]/se_income\n",
    "qplot(t_boot_income, bins = 100)"
   ]
  },
  {
   "cell_type": "code",
   "execution_count": 74,
   "metadata": {
    "collapsed": true
   },
   "outputs": [],
   "source": [
    "t_H0 <- t_boot_income - mean(t_boot_income)"
   ]
  },
  {
   "cell_type": "code",
   "execution_count": 75,
   "metadata": {
    "collapsed": false
   },
   "outputs": [
    {
     "data": {},
     "metadata": {},
     "output_type": "display_data"
    },
    {
     "data": {
      "image/png": "[encoded data removed]",
      "text/plain": [
       "plot without title"
      ]
     },
     "metadata": {},
     "output_type": "display_data"
    }
   ],
   "source": [
    "qplot(t_H0, bins = 100)"
   ]
  },
  {
   "cell_type": "code",
   "execution_count": 76,
   "metadata": {
    "collapsed": true
   },
   "outputs": [],
   "source": [
    "t_stat <- results$t0[\"income\"] / se_income"
   ]
  },
  {
   "cell_type": "code",
   "execution_count": 77,
   "metadata": {
    "collapsed": false
   },
   "outputs": [
    {
     "data": {
      "text/html": [
       "<strong>income:</strong> 4.45982643157656"
      ],
      "text/latex": [
       "\\textbf{income:} 4.45982643157656"
      ],
      "text/markdown": [
       "**income:** 4.45982643157656"
      ],
      "text/plain": [
       "  income \n",
       "4.459826 "
      ]
     },
     "metadata": {},
     "output_type": "display_data"
    }
   ],
   "source": [
    "t_stat"
   ]
  },
  {
   "cell_type": "code",
   "execution_count": 78,
   "metadata": {
    "collapsed": false
   },
   "outputs": [
    {
     "data": {
      "text/html": [
       "2e-04"
      ],
      "text/latex": [
       "2e-04"
      ],
      "text/markdown": [
       "2e-04"
      ],
      "text/plain": [
       "[1] 2e-04"
      ]
     },
     "metadata": {},
     "output_type": "display_data"
    }
   ],
   "source": [
    "p2 <- sum(t_H0 > t_stat) / 10000\n",
    "p2*2"
   ]
  },
  {
   "cell_type": "code",
   "execution_count": 79,
   "metadata": {
    "collapsed": false
   },
   "outputs": [
    {
     "data": {},
     "metadata": {},
     "output_type": "display_data"
    },
    {
     "data": {
      "image/png": "[encoded data removed]",
      "text/plain": [
       "plot without title"
      ]
     },
     "metadata": {},
     "output_type": "display_data"
    }
   ],
   "source": [
    "qplot(t_H0, bins = 100) + geom_vline(xintercept = t_stat, color = \"red\")"
   ]
  },
  {
   "cell_type": "markdown",
   "metadata": {},
   "source": [
    "## Normalization"
   ]
  },
  {
   "cell_type": "code",
   "execution_count": 80,
   "metadata": {
    "collapsed": false
   },
   "outputs": [
    {
     "data": {
      "text/html": [
       "<table>\n",
       "<thead><tr><th scope=col>abortion</th><th scope=col>religion</th><th scope=col>price</th><th scope=col>laws</th><th scope=col>funds</th><th scope=col>educ</th><th scope=col>income</th><th scope=col>picket</th></tr></thead>\n",
       "<tbody>\n",
       "\t<tr><td>12.4 </td><td>38.0 </td><td>256  </td><td>0    </td><td>0    </td><td>64.3 </td><td>14082</td><td>100  </td></tr>\n",
       "\t<tr><td>17.7 </td><td>44.7 </td><td>332  </td><td>0    </td><td>0    </td><td>75.1 </td><td>15458</td><td> 20  </td></tr>\n",
       "\t<tr><td> 9.3 </td><td>76.7 </td><td>298  </td><td>1    </td><td>0    </td><td>85.1 </td><td>15573</td><td>  0  </td></tr>\n",
       "\t<tr><td> 7.7 </td><td> 9.8 </td><td>251  </td><td>0    </td><td>1    </td><td>66.0 </td><td>15598</td><td> 50  </td></tr>\n",
       "\t<tr><td>13.5 </td><td>30.0 </td><td>248  </td><td>1    </td><td>0    </td><td>66.3 </td><td>15635</td><td> 33  </td></tr>\n",
       "\t<tr><td>13.4 </td><td>50.9 </td><td>228  </td><td>1    </td><td>0    </td><td>68.3 </td><td>15931</td><td> 60  </td></tr>\n",
       "</tbody>\n",
       "</table>\n"
      ],
      "text/latex": [
       "\\begin{tabular}{r|llllllll}\n",
       " abortion & religion & price & laws & funds & educ & income & picket\\\\\n",
       "\\hline\n",
       "\t 12.4  & 38.0  & 256   & 0     & 0     & 64.3  & 14082 & 100  \\\\\n",
       "\t 17.7  & 44.7  & 332   & 0     & 0     & 75.1  & 15458 &  20  \\\\\n",
       "\t  9.3  & 76.7  & 298   & 1     & 0     & 85.1  & 15573 &   0  \\\\\n",
       "\t  7.7  &  9.8  & 251   & 0     & 1     & 66.0  & 15598 &  50  \\\\\n",
       "\t 13.5  & 30.0  & 248   & 1     & 0     & 66.3  & 15635 &  33  \\\\\n",
       "\t 13.4  & 50.9  & 228   & 1     & 0     & 68.3  & 15931 &  60  \\\\\n",
       "\\end{tabular}\n"
      ],
      "text/markdown": [
       "\n",
       "abortion | religion | price | laws | funds | educ | income | picket | \n",
       "|---|---|---|---|---|---|\n",
       "| 12.4  | 38.0  | 256   | 0     | 0     | 64.3  | 14082 | 100   | \n",
       "| 17.7  | 44.7  | 332   | 0     | 0     | 75.1  | 15458 |  20   | \n",
       "|  9.3  | 76.7  | 298   | 1     | 0     | 85.1  | 15573 |   0   | \n",
       "|  7.7  |  9.8  | 251   | 0     | 1     | 66.0  | 15598 |  50   | \n",
       "| 13.5  | 30.0  | 248   | 1     | 0     | 66.3  | 15635 |  33   | \n",
       "| 13.4  | 50.9  | 228   | 1     | 0     | 68.3  | 15931 |  60   | \n",
       "\n",
       "\n"
      ],
      "text/plain": [
       "  abortion religion price laws funds educ income picket\n",
       "1 12.4     38.0     256   0    0     64.3 14082  100   \n",
       "2 17.7     44.7     332   0    0     75.1 15458   20   \n",
       "3  9.3     76.7     298   1    0     85.1 15573    0   \n",
       "4  7.7      9.8     251   0    1     66.0 15598   50   \n",
       "5 13.5     30.0     248   1    0     66.3 15635   33   \n",
       "6 13.4     50.9     228   1    0     68.3 15931   60   "
      ]
     },
     "metadata": {},
     "output_type": "display_data"
    }
   ],
   "source": [
    "head(data_abortion)"
   ]
  },
  {
   "cell_type": "code",
   "execution_count": 82,
   "metadata": {
    "collapsed": false
   },
   "outputs": [
    {
     "data": {
      "text/plain": [
       "\n",
       "Call:\n",
       "lm(formula = abortion ~ religion + price + laws + funds + educ + \n",
       "    +income + picket, data = data_abortion)\n",
       "\n",
       "Residuals:\n",
       "     Min       1Q   Median       3Q      Max \n",
       "-11.6110  -4.6493  -0.6696   4.5253  15.9514 \n",
       "\n",
       "Coefficients:\n",
       "              Estimate Std. Error t value Pr(>|t|)    \n",
       "(Intercept) 14.2839573 15.0776294   0.947   0.3489    \n",
       "religion     0.0200709  0.0863805   0.232   0.8174    \n",
       "price       -0.0423631  0.0222232  -1.906   0.0635 .  \n",
       "laws        -0.8731018  2.3765662  -0.367   0.7152    \n",
       "funds        2.8200030  2.7834747   1.013   0.3168    \n",
       "educ        -0.2872551  0.1995545  -1.439   0.1574    \n",
       "income       0.0024007  0.0004552   5.274 4.35e-06 ***\n",
       "picket      -0.1168712  0.0421799  -2.771   0.0083 ** \n",
       "---\n",
       "Signif. codes:  0 '***' 0.001 '**' 0.01 '*' 0.05 '.' 0.1 ' ' 1\n",
       "\n",
       "Residual standard error: 7.063 on 42 degrees of freedom\n",
       "Multiple R-squared:  0.5774,\tAdjusted R-squared:  0.507 \n",
       "F-statistic: 8.199 on 7 and 42 DF,  p-value: 2.847e-06\n"
      ]
     },
     "metadata": {},
     "output_type": "display_data"
    }
   ],
   "source": [
    "model <- lm(abortion ~ religion + price + laws + funds + educ + + income + picket, data = data_abortion)\n",
    "summary(model)"
   ]
  },
  {
   "cell_type": "code",
   "execution_count": 83,
   "metadata": {
    "collapsed": true
   },
   "outputs": [],
   "source": [
    "input_numeric <- subset(data_abortion, select= -c(laws, funds, abortion))"
   ]
  },
  {
   "cell_type": "code",
   "execution_count": 84,
   "metadata": {
    "collapsed": false
   },
   "outputs": [
    {
     "data": {
      "text/html": [
       "<table>\n",
       "<thead><tr><th scope=col>religion</th><th scope=col>price</th><th scope=col>educ</th><th scope=col>income</th><th scope=col>picket</th></tr></thead>\n",
       "<tbody>\n",
       "\t<tr><td>38.0 </td><td>256  </td><td>64.3 </td><td>14082</td><td>100  </td></tr>\n",
       "\t<tr><td>44.7 </td><td>332  </td><td>75.1 </td><td>15458</td><td> 20  </td></tr>\n",
       "\t<tr><td>76.7 </td><td>298  </td><td>85.1 </td><td>15573</td><td>  0  </td></tr>\n",
       "\t<tr><td> 9.8 </td><td>251  </td><td>66.0 </td><td>15598</td><td> 50  </td></tr>\n",
       "\t<tr><td>30.0 </td><td>248  </td><td>66.3 </td><td>15635</td><td> 33  </td></tr>\n",
       "\t<tr><td>50.9 </td><td>228  </td><td>68.3 </td><td>15931</td><td> 60  </td></tr>\n",
       "</tbody>\n",
       "</table>\n"
      ],
      "text/latex": [
       "\\begin{tabular}{r|lllll}\n",
       " religion & price & educ & income & picket\\\\\n",
       "\\hline\n",
       "\t 38.0  & 256   & 64.3  & 14082 & 100  \\\\\n",
       "\t 44.7  & 332   & 75.1  & 15458 &  20  \\\\\n",
       "\t 76.7  & 298   & 85.1  & 15573 &   0  \\\\\n",
       "\t  9.8  & 251   & 66.0  & 15598 &  50  \\\\\n",
       "\t 30.0  & 248   & 66.3  & 15635 &  33  \\\\\n",
       "\t 50.9  & 228   & 68.3  & 15931 &  60  \\\\\n",
       "\\end{tabular}\n"
      ],
      "text/markdown": [
       "\n",
       "religion | price | educ | income | picket | \n",
       "|---|---|---|---|---|---|\n",
       "| 38.0  | 256   | 64.3  | 14082 | 100   | \n",
       "| 44.7  | 332   | 75.1  | 15458 |  20   | \n",
       "| 76.7  | 298   | 85.1  | 15573 |   0   | \n",
       "|  9.8  | 251   | 66.0  | 15598 |  50   | \n",
       "| 30.0  | 248   | 66.3  | 15635 |  33   | \n",
       "| 50.9  | 228   | 68.3  | 15931 |  60   | \n",
       "\n",
       "\n"
      ],
      "text/plain": [
       "  religion price educ income picket\n",
       "1 38.0     256   64.3 14082  100   \n",
       "2 44.7     332   75.1 15458   20   \n",
       "3 76.7     298   85.1 15573    0   \n",
       "4  9.8     251   66.0 15598   50   \n",
       "5 30.0     248   66.3 15635   33   \n",
       "6 50.9     228   68.3 15931   60   "
      ]
     },
     "metadata": {},
     "output_type": "display_data"
    }
   ],
   "source": [
    "head(input_numeric)"
   ]
  },
  {
   "cell_type": "code",
   "execution_count": 92,
   "metadata": {
    "collapsed": true
   },
   "outputs": [],
   "source": [
    "standardize_2sd <- function(x){\n",
    "    return ((x - mean(x))/sd(x))\n",
    "}"
   ]
  },
  {
   "cell_type": "code",
   "execution_count": 93,
   "metadata": {
    "collapsed": true
   },
   "outputs": [],
   "source": [
    "numeric_standardized <- as.data.frame(lapply(input_numeric, standardize_2sd))"
   ]
  },
  {
   "cell_type": "code",
   "execution_count": 94,
   "metadata": {
    "collapsed": false
   },
   "outputs": [
    {
     "data": {
      "text/html": [
       "<table>\n",
       "<thead><tr><th scope=col>religion</th><th scope=col>price</th><th scope=col>educ</th><th scope=col>income</th><th scope=col>picket</th></tr></thead>\n",
       "<tbody>\n",
       "\t<tr><td> 0.4223603 </td><td>-1.0075823 </td><td>-1.957998  </td><td>-1.827015  </td><td> 1.80789409</td></tr>\n",
       "\t<tr><td> 0.9514953 </td><td> 0.5513805 </td><td>-0.139737  </td><td>-1.337298  </td><td>-1.22675818</td></tr>\n",
       "\t<tr><td> 3.4787067 </td><td>-0.1460502 </td><td> 1.543838  </td><td>-1.296369  </td><td>-1.98542125</td></tr>\n",
       "\t<tr><td>-1.8047450 </td><td>-1.1101457 </td><td>-1.671790  </td><td>-1.287472  </td><td>-0.08876358</td></tr>\n",
       "\t<tr><td>-0.2094427 </td><td>-1.1716837 </td><td>-1.621283  </td><td>-1.274304  </td><td>-0.73362719</td></tr>\n",
       "\t<tr><td> 1.4411426 </td><td>-1.5819371 </td><td>-1.284568  </td><td>-1.168957  </td><td> 0.29056796</td></tr>\n",
       "</tbody>\n",
       "</table>\n"
      ],
      "text/latex": [
       "\\begin{tabular}{r|lllll}\n",
       " religion & price & educ & income & picket\\\\\n",
       "\\hline\n",
       "\t  0.4223603  & -1.0075823  & -1.957998   & -1.827015   &  1.80789409\\\\\n",
       "\t  0.9514953  &  0.5513805  & -0.139737   & -1.337298   & -1.22675818\\\\\n",
       "\t  3.4787067  & -0.1460502  &  1.543838   & -1.296369   & -1.98542125\\\\\n",
       "\t -1.8047450  & -1.1101457  & -1.671790   & -1.287472   & -0.08876358\\\\\n",
       "\t -0.2094427  & -1.1716837  & -1.621283   & -1.274304   & -0.73362719\\\\\n",
       "\t  1.4411426  & -1.5819371  & -1.284568   & -1.168957   &  0.29056796\\\\\n",
       "\\end{tabular}\n"
      ],
      "text/markdown": [
       "\n",
       "religion | price | educ | income | picket | \n",
       "|---|---|---|---|---|---|\n",
       "|  0.4223603  | -1.0075823  | -1.957998   | -1.827015   |  1.80789409 | \n",
       "|  0.9514953  |  0.5513805  | -0.139737   | -1.337298   | -1.22675818 | \n",
       "|  3.4787067  | -0.1460502  |  1.543838   | -1.296369   | -1.98542125 | \n",
       "| -1.8047450  | -1.1101457  | -1.671790   | -1.287472   | -0.08876358 | \n",
       "| -0.2094427  | -1.1716837  | -1.621283   | -1.274304   | -0.73362719 | \n",
       "|  1.4411426  | -1.5819371  | -1.284568   | -1.168957   |  0.29056796 | \n",
       "\n",
       "\n"
      ],
      "text/plain": [
       "  religion   price      educ      income    picket     \n",
       "1  0.4223603 -1.0075823 -1.957998 -1.827015  1.80789409\n",
       "2  0.9514953  0.5513805 -0.139737 -1.337298 -1.22675818\n",
       "3  3.4787067 -0.1460502  1.543838 -1.296369 -1.98542125\n",
       "4 -1.8047450 -1.1101457 -1.671790 -1.287472 -0.08876358\n",
       "5 -0.2094427 -1.1716837 -1.621283 -1.274304 -0.73362719\n",
       "6  1.4411426 -1.5819371 -1.284568 -1.168957  0.29056796"
      ]
     },
     "metadata": {},
     "output_type": "display_data"
    }
   ],
   "source": [
    "head(numeric_standardized)"
   ]
  },
  {
   "cell_type": "code",
   "execution_count": 95,
   "metadata": {
    "collapsed": false
   },
   "outputs": [
    {
     "data": {
      "text/plain": [
       "    religion           price              educ             income       \n",
       " Min.   :-1.8047   Min.   :-1.5819   Min.   :-1.9580   Min.   :-1.8270  \n",
       " 1st Qu.:-0.6991   1st Qu.:-0.6948   1st Qu.:-0.6574   1st Qu.:-0.7581  \n",
       " Median :-0.2371   Median :-0.2178   Median : 0.1296   Median :-0.1191  \n",
       " Mean   : 0.0000   Mean   : 0.0000   Mean   : 0.0000   Mean   : 0.0000  \n",
       " 3rd Qu.: 0.4757   3rd Qu.: 0.5052   3rd Qu.: 0.7021   3rd Qu.: 0.5793  \n",
       " Max.   : 3.4787   Max.   : 3.1975   Max.   : 1.7964   Max.   : 2.8239  \n",
       "     picket        \n",
       " Min.   :-1.98542  \n",
       " 1st Qu.:-0.49655  \n",
       " Median :-0.08876  \n",
       " Mean   : 0.00000  \n",
       " 3rd Qu.: 0.55610  \n",
       " Max.   : 1.80789  "
      ]
     },
     "metadata": {},
     "output_type": "display_data"
    }
   ],
   "source": [
    "summary(numeric_standardized)"
   ]
  },
  {
   "cell_type": "code",
   "execution_count": 96,
   "metadata": {
    "collapsed": true
   },
   "outputs": [],
   "source": [
    "cat_response <- data_abortion[ c(\"abortion\", \"laws\", \"funds\")]"
   ]
  },
  {
   "cell_type": "code",
   "execution_count": 97,
   "metadata": {
    "collapsed": true
   },
   "outputs": [],
   "source": [
    "abortion_std <- cbind.data.frame( c(cat_response, numeric_standardized))"
   ]
  },
  {
   "cell_type": "code",
   "execution_count": 103,
   "metadata": {
    "collapsed": false
   },
   "outputs": [
    {
     "data": {
      "text/plain": [
       "\n",
       "Call:\n",
       "lm(formula = abortion ~ religion + price + laws + funds + educ + \n",
       "    income + picket, data = abortion_std)\n",
       "\n",
       "Residuals:\n",
       "     Min       1Q   Median       3Q      Max \n",
       "-11.6110  -4.6493  -0.6696   4.5253  15.9514 \n",
       "\n",
       "Coefficients:\n",
       "            Estimate Std. Error t value Pr(>|t|)    \n",
       "(Intercept)  20.2155     1.5537  13.011 2.51e-16 ***\n",
       "religion      0.2541     1.0938   0.232   0.8174    \n",
       "price        -2.0652     1.0834  -1.906   0.0635 .  \n",
       "laws         -0.8731     2.3766  -0.367   0.7152    \n",
       "funds         2.8200     2.7835   1.013   0.3168    \n",
       "educ         -1.7062     1.1853  -1.439   0.1574    \n",
       "income        6.7454     1.2790   5.274 4.35e-06 ***\n",
       "picket       -3.0810     1.1120  -2.771   0.0083 ** \n",
       "---\n",
       "Signif. codes:  0 '***' 0.001 '**' 0.01 '*' 0.05 '.' 0.1 ' ' 1\n",
       "\n",
       "Residual standard error: 7.063 on 42 degrees of freedom\n",
       "Multiple R-squared:  0.5774,\tAdjusted R-squared:  0.507 \n",
       "F-statistic: 8.199 on 7 and 42 DF,  p-value: 2.847e-06\n"
      ]
     },
     "metadata": {},
     "output_type": "display_data"
    }
   ],
   "source": [
    "model_std <- lm(abortion ~ religion + price + laws + funds + educ + income + picket,\n",
    "                data = abortion_std)\n",
    "summary(model_std)"
   ]
  },
  {
   "cell_type": "code",
   "execution_count": null,
   "metadata": {
    "collapsed": true
   },
   "outputs": [],
   "source": []
  },
  {
   "cell_type": "code",
   "execution_count": 409,
   "metadata": {
    "collapsed": false
   },
   "outputs": [
    {
     "data": {
      "text/plain": [
       "\n",
       "Call:\n",
       "lm(formula = abortion ~ religion + price + laws + funds + educ + \n",
       "    +income + picket, data = data_abortion)\n",
       "\n",
       "Residuals:\n",
       "     Min       1Q   Median       3Q      Max \n",
       "-11.6110  -4.6493  -0.6696   4.5253  15.9514 \n",
       "\n",
       "Coefficients:\n",
       "              Estimate Std. Error t value Pr(>|t|)    \n",
       "(Intercept) 14.2839573 15.0776294   0.947   0.3489    \n",
       "religion     0.0200709  0.0863805   0.232   0.8174    \n",
       "price       -0.0423631  0.0222232  -1.906   0.0635 .  \n",
       "laws        -0.8731018  2.3765662  -0.367   0.7152    \n",
       "funds        2.8200030  2.7834747   1.013   0.3168    \n",
       "educ        -0.2872551  0.1995545  -1.439   0.1574    \n",
       "income       0.0024007  0.0004552   5.274 4.35e-06 ***\n",
       "picket      -0.1168712  0.0421799  -2.771   0.0083 ** \n",
       "---\n",
       "Signif. codes:  0 ‘***’ 0.001 ‘**’ 0.01 ‘*’ 0.05 ‘.’ 0.1 ‘ ’ 1\n",
       "\n",
       "Residual standard error: 7.063 on 42 degrees of freedom\n",
       "Multiple R-squared:  0.5774,\tAdjusted R-squared:  0.507 \n",
       "F-statistic: 8.199 on 7 and 42 DF,  p-value: 2.847e-06\n"
      ]
     },
     "metadata": {},
     "output_type": "display_data"
    }
   ],
   "source": [
    "summary(model)"
   ]
  },
  {
   "cell_type": "code",
   "execution_count": null,
   "metadata": {
    "collapsed": true
   },
   "outputs": [],
   "source": []
  },
  {
   "cell_type": "code",
   "execution_count": null,
   "metadata": {
    "collapsed": true
   },
   "outputs": [],
   "source": []
  },
  {
   "cell_type": "code",
   "execution_count": null,
   "metadata": {
    "collapsed": true
   },
   "outputs": [],
   "source": []
  },
  {
   "cell_type": "code",
   "execution_count": 410,
   "metadata": {
    "collapsed": false
   },
   "outputs": [
    {
     "data": {
      "text/html": [
       "1"
      ],
      "text/latex": [
       "1"
      ],
      "text/markdown": [
       "1"
      ],
      "text/plain": [
       "[1] 1"
      ]
     },
     "metadata": {},
     "output_type": "display_data"
    }
   ],
   "source": [
    "sd(abortion_std$price)"
   ]
  },
  {
   "cell_type": "markdown",
   "metadata": {},
   "source": [
    "### Lasso Regression"
   ]
  },
  {
   "cell_type": "code",
   "execution_count": 104,
   "metadata": {
    "collapsed": false,
    "scrolled": true
   },
   "outputs": [
    {
     "name": "stderr",
     "output_type": "stream",
     "text": [
      "Loading required package: Matrix\n",
      "Loading required package: foreach\n",
      "Loaded glmnet 2.0-5\n",
      "\n"
     ]
    }
   ],
   "source": [
    "library(glmnet)"
   ]
  },
  {
   "cell_type": "code",
   "execution_count": 106,
   "metadata": {
    "collapsed": true
   },
   "outputs": [],
   "source": [
    "x = model.matrix(abortion ~ ., data_abortion)[, -1]\n",
    "y = data_abortion$abortion"
   ]
  },
  {
   "cell_type": "code",
   "execution_count": 107,
   "metadata": {
    "collapsed": true
   },
   "outputs": [],
   "source": [
    "grid = c(10000, 3000, 1000, 300, 100, 30, 10, 3, 1, 0.3, 0.1, 0.03, 0.01, 0.003, 0.001, 0.0003, 0.0001)\n",
    "lasso.mod = glmnet(x, y, alpha = 1, lambda = grid, standardize = TRUE)"
   ]
  },
  {
   "cell_type": "code",
   "execution_count": 108,
   "metadata": {
    "collapsed": false
   },
   "outputs": [
    {
     "data": {
      "text/plain": [
       "\n",
       "Call:  glmnet(x = x, y = y, alpha = 1, lambda = grid, standardize = TRUE) \n",
       "\n",
       "      Df   %Dev Lambda\n",
       " [1,]  0 0.0000  1e+04\n",
       " [2,]  0 0.0000  3e+03\n",
       " [3,]  0 0.0000  1e+03\n",
       " [4,]  0 0.0000  3e+02\n",
       " [5,]  0 0.0000  1e+02\n",
       " [6,]  0 0.0000  3e+01\n",
       " [7,]  0 0.0000  1e+01\n",
       " [8,]  2 0.3392  3e+00\n",
       " [9,]  5 0.5142  1e+00\n",
       "[10,]  6 0.5706  3e-01\n",
       "[11,]  7 0.5765  1e-01\n",
       "[12,]  7 0.5773  3e-02\n",
       "[13,]  7 0.5774  1e-02\n",
       "[14,]  7 0.5774  3e-03\n",
       "[15,]  7 0.5774  1e-03\n",
       "[16,]  7 0.5774  3e-04\n",
       "[17,]  7 0.5774  1e-04"
      ]
     },
     "metadata": {},
     "output_type": "display_data"
    }
   ],
   "source": [
    "lasso.mod"
   ]
  },
  {
   "cell_type": "markdown",
   "metadata": {},
   "source": [
    "* Validation Set"
   ]
  },
  {
   "cell_type": "code",
   "execution_count": 110,
   "metadata": {
    "collapsed": false
   },
   "outputs": [],
   "source": [
    "train = sample(c(TRUE, FALSE), nrow(data_abortion), rep = TRUE)\n",
    "test = (!train)"
   ]
  },
  {
   "cell_type": "code",
   "execution_count": 111,
   "metadata": {
    "collapsed": true
   },
   "outputs": [],
   "source": [
    "y.test = y[test]"
   ]
  },
  {
   "cell_type": "code",
   "execution_count": 112,
   "metadata": {
    "collapsed": true
   },
   "outputs": [],
   "source": [
    "grid = c(10000, 3000, 1000, 300, 100, 30, 10, 3, 1, 0.3, 0.1, 0.03, 0.01, 0.003, 0.001, 0.0003, 0.0001)\n",
    "lasso.mod = glmnet(x[train, ], y[train], alpha = 1, lambda = grid, standardize = TRUE)"
   ]
  },
  {
   "cell_type": "code",
   "execution_count": 113,
   "metadata": {
    "collapsed": true
   },
   "outputs": [],
   "source": [
    "lasso.score <- rep(NA, length(grid))\n",
    "for (i in 1:length(grid)){\n",
    "    lasso.pred = predict(lasso.mod, s = grid[i], newx = x[test, ])\n",
    "    lasso.score[i] = mean((lasso.pred - y.test)^2)\n",
    "}"
   ]
  },
  {
   "cell_type": "code",
   "execution_count": 114,
   "metadata": {
    "collapsed": false
   },
   "outputs": [
    {
     "data": {
      "text/html": [
       "<ol class=list-inline>\n",
       "\t<li>94.8989239533083</li>\n",
       "\t<li>94.8989239533083</li>\n",
       "\t<li>94.8989239533083</li>\n",
       "\t<li>94.8989239533083</li>\n",
       "\t<li>94.8989239533083</li>\n",
       "\t<li>94.8989239533083</li>\n",
       "\t<li>94.8989239533083</li>\n",
       "\t<li>67.8109623395844</li>\n",
       "\t<li>62.7364978222607</li>\n",
       "\t<li>54.0938089438513</li>\n",
       "\t<li>55.2669626116121</li>\n",
       "\t<li>56.1721181473249</li>\n",
       "\t<li>56.476069192984</li>\n",
       "\t<li>56.5886751051472</li>\n",
       "\t<li>56.6197903603386</li>\n",
       "\t<li>56.6299311080821</li>\n",
       "\t<li>56.6330097955163</li>\n",
       "</ol>\n"
      ],
      "text/latex": [
       "\\begin{enumerate*}\n",
       "\\item 94.8989239533083\n",
       "\\item 94.8989239533083\n",
       "\\item 94.8989239533083\n",
       "\\item 94.8989239533083\n",
       "\\item 94.8989239533083\n",
       "\\item 94.8989239533083\n",
       "\\item 94.8989239533083\n",
       "\\item 67.8109623395844\n",
       "\\item 62.7364978222607\n",
       "\\item 54.0938089438513\n",
       "\\item 55.2669626116121\n",
       "\\item 56.1721181473249\n",
       "\\item 56.476069192984\n",
       "\\item 56.5886751051472\n",
       "\\item 56.6197903603386\n",
       "\\item 56.6299311080821\n",
       "\\item 56.6330097955163\n",
       "\\end{enumerate*}\n"
      ],
      "text/markdown": [
       "1. 94.8989239533083\n",
       "2. 94.8989239533083\n",
       "3. 94.8989239533083\n",
       "4. 94.8989239533083\n",
       "5. 94.8989239533083\n",
       "6. 94.8989239533083\n",
       "7. 94.8989239533083\n",
       "8. 67.8109623395844\n",
       "9. 62.7364978222607\n",
       "10. 54.0938089438513\n",
       "11. 55.2669626116121\n",
       "12. 56.1721181473249\n",
       "13. 56.476069192984\n",
       "14. 56.5886751051472\n",
       "15. 56.6197903603386\n",
       "16. 56.6299311080821\n",
       "17. 56.6330097955163\n",
       "\n",
       "\n"
      ],
      "text/plain": [
       " [1] 94.89892 94.89892 94.89892 94.89892 94.89892 94.89892 94.89892 67.81096\n",
       " [9] 62.73650 54.09381 55.26696 56.17212 56.47607 56.58868 56.61979 56.62993\n",
       "[17] 56.63301"
      ]
     },
     "metadata": {},
     "output_type": "display_data"
    }
   ],
   "source": [
    "lasso.score"
   ]
  },
  {
   "cell_type": "markdown",
   "metadata": {},
   "source": [
    "* K-Fold Cross Validation"
   ]
  },
  {
   "cell_type": "code",
   "execution_count": 115,
   "metadata": {
    "collapsed": true
   },
   "outputs": [],
   "source": [
    "set.seed(1)\n",
    "lasso.cv = cv.glmnet(x, y, alpha = 1, lambda = grid, standardize = TRUE)\n",
    "bestlam = lasso.cv$lambda.min"
   ]
  },
  {
   "cell_type": "code",
   "execution_count": 116,
   "metadata": {
    "collapsed": false
   },
   "outputs": [
    {
     "data": {
      "text/html": [
       "17"
      ],
      "text/latex": [
       "17"
      ],
      "text/markdown": [
       "17"
      ],
      "text/plain": [
       "[1] 17"
      ]
     },
     "metadata": {},
     "output_type": "display_data"
    }
   ],
   "source": [
    "length(grid)"
   ]
  },
  {
   "cell_type": "code",
   "execution_count": 117,
   "metadata": {
    "collapsed": false
   },
   "outputs": [
    {
     "data": {
      "text/html": [
       "<ol class=list-inline>\n",
       "\t<li>104.633701600795</li>\n",
       "\t<li>104.633701600795</li>\n",
       "\t<li>104.633701600795</li>\n",
       "\t<li>104.633701600795</li>\n",
       "\t<li>104.633701600795</li>\n",
       "\t<li>104.633701600795</li>\n",
       "\t<li>104.633701600795</li>\n",
       "\t<li>74.4642217956837</li>\n",
       "\t<li>69.9912915871016</li>\n",
       "\t<li>68.4347202396639</li>\n",
       "\t<li>69.2940434302681</li>\n",
       "\t<li>69.8250837839045</li>\n",
       "\t<li>70.018901455861</li>\n",
       "\t<li>70.0949961341491</li>\n",
       "\t<li>70.1132285547516</li>\n",
       "\t<li>70.1211531864826</li>\n",
       "\t<li>70.1234002987624</li>\n",
       "</ol>\n"
      ],
      "text/latex": [
       "\\begin{enumerate*}\n",
       "\\item 104.633701600795\n",
       "\\item 104.633701600795\n",
       "\\item 104.633701600795\n",
       "\\item 104.633701600795\n",
       "\\item 104.633701600795\n",
       "\\item 104.633701600795\n",
       "\\item 104.633701600795\n",
       "\\item 74.4642217956837\n",
       "\\item 69.9912915871016\n",
       "\\item 68.4347202396639\n",
       "\\item 69.2940434302681\n",
       "\\item 69.8250837839045\n",
       "\\item 70.018901455861\n",
       "\\item 70.0949961341491\n",
       "\\item 70.1132285547516\n",
       "\\item 70.1211531864826\n",
       "\\item 70.1234002987624\n",
       "\\end{enumerate*}\n"
      ],
      "text/markdown": [
       "1. 104.633701600795\n",
       "2. 104.633701600795\n",
       "3. 104.633701600795\n",
       "4. 104.633701600795\n",
       "5. 104.633701600795\n",
       "6. 104.633701600795\n",
       "7. 104.633701600795\n",
       "8. 74.4642217956837\n",
       "9. 69.9912915871016\n",
       "10. 68.4347202396639\n",
       "11. 69.2940434302681\n",
       "12. 69.8250837839045\n",
       "13. 70.018901455861\n",
       "14. 70.0949961341491\n",
       "15. 70.1132285547516\n",
       "16. 70.1211531864826\n",
       "17. 70.1234002987624\n",
       "\n",
       "\n"
      ],
      "text/plain": [
       " [1] 104.63370 104.63370 104.63370 104.63370 104.63370 104.63370 104.63370\n",
       " [8]  74.46422  69.99129  68.43472  69.29404  69.82508  70.01890  70.09500\n",
       "[15]  70.11323  70.12115  70.12340"
      ]
     },
     "metadata": {},
     "output_type": "display_data"
    }
   ],
   "source": [
    "lasso.cv$cvm"
   ]
  },
  {
   "cell_type": "code",
   "execution_count": 118,
   "metadata": {
    "collapsed": false
   },
   "outputs": [
    {
     "data": {
      "text/html": [
       "0.3"
      ],
      "text/latex": [
       "0.3"
      ],
      "text/markdown": [
       "0.3"
      ],
      "text/plain": [
       "[1] 0.3"
      ]
     },
     "metadata": {},
     "output_type": "display_data"
    }
   ],
   "source": [
    "bestlam"
   ]
  },
  {
   "cell_type": "code",
   "execution_count": 119,
   "metadata": {
    "collapsed": true
   },
   "outputs": [],
   "source": [
    "lasso.best = glmnet(x, y, alpha = 1, lambda = bestlam, standardize = TRUE)"
   ]
  },
  {
   "cell_type": "code",
   "execution_count": 120,
   "metadata": {
    "collapsed": false
   },
   "outputs": [
    {
     "data": {
      "text/plain": [
       "7 x 1 sparse Matrix of class \"dgCMatrix\"\n",
       "                   s0\n",
       "religion  .          \n",
       "price    -0.034200177\n",
       "laws     -0.555827165\n",
       "funds     2.446374163\n",
       "educ     -0.188923992\n",
       "income    0.002213645\n",
       "picket   -0.101481870"
      ]
     },
     "metadata": {},
     "output_type": "display_data"
    }
   ],
   "source": [
    "lasso.best$beta"
   ]
  },
  {
   "cell_type": "code",
   "execution_count": 121,
   "metadata": {
    "collapsed": false
   },
   "outputs": [
    {
     "data": {
      "text/html": [
       "<strong>s0:</strong> 7.7463369925575"
      ],
      "text/latex": [
       "\\textbf{s0:} 7.7463369925575"
      ],
      "text/markdown": [
       "**s0:** 7.7463369925575"
      ],
      "text/plain": [
       "      s0 \n",
       "7.746337 "
      ]
     },
     "metadata": {},
     "output_type": "display_data"
    }
   ],
   "source": [
    "lasso.best$a0"
   ]
  },
  {
   "cell_type": "code",
   "execution_count": null,
   "metadata": {
    "collapsed": true
   },
   "outputs": [],
   "source": []
  },
  {
   "cell_type": "code",
   "execution_count": 125,
   "metadata": {
    "collapsed": true
   },
   "outputs": [],
   "source": [
    "x = model.matrix(abortion ~ ., abortion_std)[, -1]\n",
    "y = abortion_std$abortion"
   ]
  },
  {
   "cell_type": "code",
   "execution_count": 126,
   "metadata": {
    "collapsed": false
   },
   "outputs": [],
   "source": [
    "grid = c(10000, 3000, 1000, 300, 100, 30, 10, 3, 1, 0.3, 0.1, 0.03, 0.01, 0.003, 0.001, 0.0003, 0.0001)\n",
    "lasso.mod = glmnet(x, y, alpha = 1, lambda = grid, standardize = FALSE)"
   ]
  },
  {
   "cell_type": "code",
   "execution_count": 127,
   "metadata": {
    "collapsed": false
   },
   "outputs": [
    {
     "data": {
      "text/plain": [
       "\n",
       "Call:  glmnet(x = x, y = y, alpha = 1, lambda = grid, standardize = FALSE) \n",
       "\n",
       "      Df   %Dev Lambda\n",
       " [1,]  0 0.0000  1e+04\n",
       " [2,]  0 0.0000  3e+03\n",
       " [3,]  0 0.0000  1e+03\n",
       " [4,]  0 0.0000  3e+02\n",
       " [5,]  0 0.0000  1e+02\n",
       " [6,]  0 0.0000  3e+01\n",
       " [7,]  0 0.0000  1e+01\n",
       " [8,]  2 0.3360  3e+00\n",
       " [9,]  3 0.5016  1e+00\n",
       "[10,]  6 0.5661  3e-01\n",
       "[11,]  7 0.5758  1e-01\n",
       "[12,]  7 0.5773  3e-02\n",
       "[13,]  7 0.5774  1e-02\n",
       "[14,]  7 0.5774  3e-03\n",
       "[15,]  7 0.5774  1e-03\n",
       "[16,]  7 0.5774  3e-04\n",
       "[17,]  7 0.5774  1e-04"
      ]
     },
     "metadata": {},
     "output_type": "display_data"
    }
   ],
   "source": [
    "lasso.mod"
   ]
  },
  {
   "cell_type": "code",
   "execution_count": 128,
   "metadata": {
    "collapsed": true
   },
   "outputs": [],
   "source": [
    "train = sample(c(TRUE, FALSE), nrow(data_abortion), rep = TRUE)\n",
    "test = (!train)"
   ]
  },
  {
   "cell_type": "code",
   "execution_count": 129,
   "metadata": {
    "collapsed": true
   },
   "outputs": [],
   "source": [
    "y.test = y[test]"
   ]
  },
  {
   "cell_type": "code",
   "execution_count": 130,
   "metadata": {
    "collapsed": true
   },
   "outputs": [],
   "source": [
    "grid = c(10000, 3000, 1000, 300, 100, 30, 10, 3, 1, 0.3, 0.1, 0.03, 0.01, 0.003, 0.001, 0.0003, 0.0001)\n",
    "lasso.mod = glmnet(x[train, ], y[train], alpha = 1, lambda = grid, standardize = FALSE)"
   ]
  },
  {
   "cell_type": "code",
   "execution_count": 131,
   "metadata": {
    "collapsed": true
   },
   "outputs": [],
   "source": [
    "lasso.score <- rep(NA, length(grid))\n",
    "for (i in 1:length(grid)){\n",
    "    lasso.pred = predict(lasso.mod, s = grid[i], newx = x[test, ])\n",
    "    lasso.score[i] = mean((lasso.pred - y.test)^2)\n",
    "}"
   ]
  },
  {
   "cell_type": "code",
   "execution_count": 132,
   "metadata": {
    "collapsed": false
   },
   "outputs": [
    {
     "data": {
      "text/html": [
       "<ol class=list-inline>\n",
       "\t<li>76.5879985664173</li>\n",
       "\t<li>76.5879985664173</li>\n",
       "\t<li>76.5879985664173</li>\n",
       "\t<li>76.5879985664173</li>\n",
       "\t<li>76.5879985664173</li>\n",
       "\t<li>76.5879985664173</li>\n",
       "\t<li>76.5879985664173</li>\n",
       "\t<li>59.3719433365767</li>\n",
       "\t<li>73.072765909635</li>\n",
       "\t<li>86.7507096845289</li>\n",
       "\t<li>93.86479864453</li>\n",
       "\t<li>96.9737630051043</li>\n",
       "\t<li>97.9194078919213</li>\n",
       "\t<li>98.2554520680831</li>\n",
       "\t<li>98.3503744796326</li>\n",
       "\t<li>98.3827439232112</li>\n",
       "\t<li>98.3939809293499</li>\n",
       "</ol>\n"
      ],
      "text/latex": [
       "\\begin{enumerate*}\n",
       "\\item 76.5879985664173\n",
       "\\item 76.5879985664173\n",
       "\\item 76.5879985664173\n",
       "\\item 76.5879985664173\n",
       "\\item 76.5879985664173\n",
       "\\item 76.5879985664173\n",
       "\\item 76.5879985664173\n",
       "\\item 59.3719433365767\n",
       "\\item 73.072765909635\n",
       "\\item 86.7507096845289\n",
       "\\item 93.86479864453\n",
       "\\item 96.9737630051043\n",
       "\\item 97.9194078919213\n",
       "\\item 98.2554520680831\n",
       "\\item 98.3503744796326\n",
       "\\item 98.3827439232112\n",
       "\\item 98.3939809293499\n",
       "\\end{enumerate*}\n"
      ],
      "text/markdown": [
       "1. 76.5879985664173\n",
       "2. 76.5879985664173\n",
       "3. 76.5879985664173\n",
       "4. 76.5879985664173\n",
       "5. 76.5879985664173\n",
       "6. 76.5879985664173\n",
       "7. 76.5879985664173\n",
       "8. 59.3719433365767\n",
       "9. 73.072765909635\n",
       "10. 86.7507096845289\n",
       "11. 93.86479864453\n",
       "12. 96.9737630051043\n",
       "13. 97.9194078919213\n",
       "14. 98.2554520680831\n",
       "15. 98.3503744796326\n",
       "16. 98.3827439232112\n",
       "17. 98.3939809293499\n",
       "\n",
       "\n"
      ],
      "text/plain": [
       " [1] 76.58800 76.58800 76.58800 76.58800 76.58800 76.58800 76.58800 59.37194\n",
       " [9] 73.07277 86.75071 93.86480 96.97376 97.91941 98.25545 98.35037 98.38274\n",
       "[17] 98.39398"
      ]
     },
     "metadata": {},
     "output_type": "display_data"
    }
   ],
   "source": [
    "lasso.score"
   ]
  },
  {
   "cell_type": "code",
   "execution_count": 133,
   "metadata": {
    "collapsed": true
   },
   "outputs": [],
   "source": [
    "set.seed(1)\n",
    "lasso.cv = cv.glmnet(x, y, alpha = 1, lambda = grid, standardize = FALSE)\n",
    "bestlam = lasso.cv$lambda.min"
   ]
  },
  {
   "cell_type": "code",
   "execution_count": 134,
   "metadata": {
    "collapsed": false
   },
   "outputs": [
    {
     "data": {
      "text/html": [
       "17"
      ],
      "text/latex": [
       "17"
      ],
      "text/markdown": [
       "17"
      ],
      "text/plain": [
       "[1] 17"
      ]
     },
     "metadata": {},
     "output_type": "display_data"
    }
   ],
   "source": [
    "length(grid)"
   ]
  },
  {
   "cell_type": "code",
   "execution_count": 135,
   "metadata": {
    "collapsed": false
   },
   "outputs": [
    {
     "data": {
      "text/html": [
       "<ol class=list-inline>\n",
       "\t<li>104.633701600795</li>\n",
       "\t<li>104.633701600795</li>\n",
       "\t<li>104.633701600795</li>\n",
       "\t<li>104.633701600795</li>\n",
       "\t<li>104.633701600795</li>\n",
       "\t<li>104.633701600795</li>\n",
       "\t<li>104.633701600795</li>\n",
       "\t<li>73.9872023953586</li>\n",
       "\t<li>66.0894999456362</li>\n",
       "\t<li>67.6431309648009</li>\n",
       "\t<li>68.9717910370556</li>\n",
       "\t<li>69.7246774980381</li>\n",
       "\t<li>69.9601208601831</li>\n",
       "\t<li>70.0724441659225</li>\n",
       "\t<li>70.1055782266208</li>\n",
       "\t<li>70.116727580602</li>\n",
       "\t<li>70.1212342153849</li>\n",
       "</ol>\n"
      ],
      "text/latex": [
       "\\begin{enumerate*}\n",
       "\\item 104.633701600795\n",
       "\\item 104.633701600795\n",
       "\\item 104.633701600795\n",
       "\\item 104.633701600795\n",
       "\\item 104.633701600795\n",
       "\\item 104.633701600795\n",
       "\\item 104.633701600795\n",
       "\\item 73.9872023953586\n",
       "\\item 66.0894999456362\n",
       "\\item 67.6431309648009\n",
       "\\item 68.9717910370556\n",
       "\\item 69.7246774980381\n",
       "\\item 69.9601208601831\n",
       "\\item 70.0724441659225\n",
       "\\item 70.1055782266208\n",
       "\\item 70.116727580602\n",
       "\\item 70.1212342153849\n",
       "\\end{enumerate*}\n"
      ],
      "text/markdown": [
       "1. 104.633701600795\n",
       "2. 104.633701600795\n",
       "3. 104.633701600795\n",
       "4. 104.633701600795\n",
       "5. 104.633701600795\n",
       "6. 104.633701600795\n",
       "7. 104.633701600795\n",
       "8. 73.9872023953586\n",
       "9. 66.0894999456362\n",
       "10. 67.6431309648009\n",
       "11. 68.9717910370556\n",
       "12. 69.7246774980381\n",
       "13. 69.9601208601831\n",
       "14. 70.0724441659225\n",
       "15. 70.1055782266208\n",
       "16. 70.116727580602\n",
       "17. 70.1212342153849\n",
       "\n",
       "\n"
      ],
      "text/plain": [
       " [1] 104.63370 104.63370 104.63370 104.63370 104.63370 104.63370 104.63370\n",
       " [8]  73.98720  66.08950  67.64313  68.97179  69.72468  69.96012  70.07244\n",
       "[15]  70.10558  70.11673  70.12123"
      ]
     },
     "metadata": {},
     "output_type": "display_data"
    }
   ],
   "source": [
    "lasso.cv$cvm"
   ]
  },
  {
   "cell_type": "code",
   "execution_count": 136,
   "metadata": {
    "collapsed": false
   },
   "outputs": [
    {
     "data": {
      "text/html": [
       "1"
      ],
      "text/latex": [
       "1"
      ],
      "text/markdown": [
       "1"
      ],
      "text/plain": [
       "[1] 1"
      ]
     },
     "metadata": {},
     "output_type": "display_data"
    }
   ],
   "source": [
    "bestlam"
   ]
  },
  {
   "cell_type": "code",
   "execution_count": 137,
   "metadata": {
    "collapsed": true
   },
   "outputs": [],
   "source": [
    "lasso.best = glmnet(x, y, alpha = 1, lambda = bestlam, standardize = FALSE)"
   ]
  },
  {
   "cell_type": "code",
   "execution_count": 138,
   "metadata": {
    "collapsed": false
   },
   "outputs": [
    {
     "data": {
      "text/plain": [
       "7 x 1 sparse Matrix of class \"dgCMatrix\"\n",
       "                 s0\n",
       "laws      .        \n",
       "funds     .        \n",
       "religion  .        \n",
       "price    -0.7177953\n",
       "educ      .        \n",
       "income    5.3919527\n",
       "picket   -1.9598708"
      ]
     },
     "metadata": {},
     "output_type": "display_data"
    }
   ],
   "source": [
    "lasso.best$beta"
   ]
  },
  {
   "cell_type": "code",
   "execution_count": 139,
   "metadata": {
    "collapsed": false
   },
   "outputs": [
    {
     "data": {
      "text/html": [
       "<strong>s0:</strong> 20.578000125876"
      ],
      "text/latex": [
       "\\textbf{s0:} 20.578000125876"
      ],
      "text/markdown": [
       "**s0:** 20.578000125876"
      ],
      "text/plain": [
       "    s0 \n",
       "20.578 "
      ]
     },
     "metadata": {},
     "output_type": "display_data"
    }
   ],
   "source": [
    "lasso.best$a0"
   ]
  },
  {
   "cell_type": "code",
   "execution_count": null,
   "metadata": {
    "collapsed": true
   },
   "outputs": [],
   "source": []
  }
 ],
 "metadata": {
  "kernelspec": {
   "display_name": "R",
   "language": "R",
   "name": "ir"
  },
  "language_info": {
   "codemirror_mode": "r",
   "file_extension": ".r",
   "mimetype": "text/x-r-source",
   "name": "R",
   "pygments_lexer": "r",
   "version": "3.3.2"
  }
 },
 "nbformat": 4,
 "nbformat_minor": 2
}
